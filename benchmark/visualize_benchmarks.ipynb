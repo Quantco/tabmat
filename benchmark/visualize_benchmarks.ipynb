{
 "cells": [
  {
   "cell_type": "code",
   "execution_count": null,
   "metadata": {},
   "outputs": [],
   "source": [
    "import pandas as pd\n",
    "import seaborn as sns\n",
    "from matplotlib import pyplot as plt\n",
    "sns.set(style='whitegrid', font_scale=1.5)"
   ]
  },
  {
   "cell_type": "code",
   "execution_count": null,
   "metadata": {},
   "outputs": [],
   "source": [
    "import os\n",
    "[elt for elt in os.listdir() if 'csv' in elt]"
   ]
  },
  {
   "cell_type": "code",
   "execution_count": null,
   "metadata": {},
   "outputs": [],
   "source": [
    "def make_figure(df, matrix_name='quantcore.matrix', title=None):\n",
    "    df2 = df.set_index(['operation', 'storage']).stack().reset_index().rename(columns={0: 'val'})\n",
    "    df2['storage'] = [{'quantcore.matrix': matrix_name}.get(elt, elt) for elt in df2['storage']]\n",
    "    hue_order = [matrix_name] + [elt for elt in df['storage'] if elt != matrix_name]\n",
    "    g = sns.FacetGrid(data=df2, col='operation', hue='storage', sharey=False, row='level_2', hue_order=hue_order,\n",
    "                     palette=['k', 'k', 'k'], aspect=1.2)\n",
    "    g.map(plt.bar, 'storage', 'val')\n",
    "\n",
    "    g.axes[0, 0].set_ylabel('Memory')\n",
    "    g.axes[1, 0].set_ylabel('Time')\n",
    "    for j, name in enumerate(['Matvec', 'Sandwich', 'Mat-T-Vec']):\n",
    "        g.axes[0, j].set_title(name)\n",
    "        g.axes[1, j].set_title('')\n",
    "        for tick in g.axes[1, j].get_xticklabels():\n",
    "            tick.set_rotation(60)\n",
    "        g.axes[1, j].set_xlabel('')\n",
    "    if title is not None:\n",
    "        plt.suptitle(title, y=1)\n",
    "    plt.tight_layout()"
   ]
  },
  {
   "cell_type": "code",
   "execution_count": null,
   "metadata": {
    "scrolled": false
   },
   "outputs": [],
   "source": [
    "fname = 'sparse_times.csv'\n",
    "make_figure(pd.read_csv(fname), 'mx.SparseMatrix', 'Sparse Matrix Benchmarks')\n",
    "plt.savefig(fname[:-4] + '.png')"
   ]
  },
  {
   "cell_type": "code",
   "execution_count": null,
   "metadata": {},
   "outputs": [],
   "source": [
    "fname = 'dense_times.csv'\n",
    "make_figure(pd.read_csv(fname), 'mx.DenseMatrix', 'Dense Matrix Benchmarks')\n",
    "plt.savefig(fname[:-4] + '.png')"
   ]
  },
  {
   "cell_type": "code",
   "execution_count": null,
   "metadata": {},
   "outputs": [],
   "source": [
    "fname = 'one_cat_times.csv'\n",
    "make_figure(pd.read_csv(fname), 'mx.CategoricalMatrix', 'Categorical Matrix Benchmarks')\n",
    "plt.savefig(fname[:-4] + '.png')"
   ]
  },
  {
   "cell_type": "code",
   "execution_count": null,
   "metadata": {},
   "outputs": [],
   "source": [
    "fname = 'two_cat_times.csv'\n",
    "make_figure(pd.read_csv(fname), 'mx.SplitMatrix', 'Two-Categorical Matrix Benchmarks')\n",
    "plt.savefig(fname[:-4] + '.png')"
   ]
  },
  {
   "cell_type": "code",
   "execution_count": null,
   "metadata": {},
   "outputs": [],
   "source": [
    "fname = 'dense_cat_times.csv'\n",
    "make_figure(pd.read_csv(fname), 'mx.SplitMatrix', 'Dense + Two Categoricals Benchmarks')\n",
    "plt.savefig(fname[:-4] + '.png')"
   ]
  },
  {
   "cell_type": "code",
   "execution_count": null,
   "metadata": {},
   "outputs": [],
   "source": []
  }
 ],
 "metadata": {
  "kernelspec": {
   "display_name": "Python 3",
   "language": "python",
   "name": "python3"
  },
  "language_info": {
   "codemirror_mode": {
    "name": "ipython",
    "version": 3
   },
   "file_extension": ".py",
   "mimetype": "text/x-python",
   "name": "python",
   "nbconvert_exporter": "python",
   "pygments_lexer": "ipython3",
   "version": "3.8.3"
  }
 },
 "nbformat": 4,
 "nbformat_minor": 4
}
